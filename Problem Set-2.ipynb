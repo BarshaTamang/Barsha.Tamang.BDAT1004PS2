{
 "cells": [
  {
   "cell_type": "markdown",
   "id": "7a567da3",
   "metadata": {},
   "source": [
    "# Question No. 1"
   ]
  },
  {
   "cell_type": "code",
   "execution_count": 1,
   "id": "cc0f0c72",
   "metadata": {},
   "outputs": [
    {
     "data": {
      "text/plain": [
       "6"
      ]
     },
     "execution_count": 1,
     "metadata": {},
     "output_type": "execute_result"
    }
   ],
   "source": [
    "a=0\n",
    "def b():\n",
    "    global a\n",
    "    a=c(a)\n",
    "    \n",
    "def c(a):\n",
    "    return a+2\n",
    "\n",
    "b()\n",
    "b()\n",
    "b()\n",
    "a"
   ]
  },
  {
   "cell_type": "markdown",
   "id": "b7b6ee08",
   "metadata": {},
   "source": [
    "The value of 'a' is initially 2 when the function 'b()' is first executed because it calls the function 'c()', which sets 'a' to 2. When 'b()' is executed again, 'a' becomes 4, and on the final execution of 'b()', 'a' holds the value 6 because it adds 2 to its previous value of 4."
   ]
  },
  {
   "cell_type": "markdown",
   "id": "dd6cc944",
   "metadata": {},
   "source": [
    "# Question No. 2"
   ]
  },
  {
   "cell_type": "code",
   "execution_count": 38,
   "id": "a445af02",
   "metadata": {},
   "outputs": [
    {
     "name": "stdout",
     "output_type": "stream",
     "text": [
      "The given file length is : 779\n",
      "File idterm.py not found.\n"
     ]
    }
   ],
   "source": [
    "def file_length(f):\n",
    "    try:\n",
    "        file = open(f,'r')\n",
    "        contents = file.read()\n",
    "        print('The given file length is : ' + str(len(contents)))\n",
    "        file.close()\n",
    "    except FileNotFoundError:\n",
    "        print('File '+f+' not found.')\n",
    "        \n",
    "file_length('intro.ipynb')\n",
    "file_length('idterm.py')"
   ]
  },
  {
   "cell_type": "markdown",
   "id": "bcece379",
   "metadata": {},
   "source": [
    "# Question No. 3"
   ]
  },
  {
   "cell_type": "code",
   "execution_count": 4,
   "id": "c2bfe3a7",
   "metadata": {},
   "outputs": [
    {
     "data": {
      "text/plain": [
       "['doll', 'firetruck', 'kitten']"
      ]
     },
     "execution_count": 4,
     "metadata": {},
     "output_type": "execute_result"
    }
   ],
   "source": [
    "class Marsupials:\n",
    "    def __init__(self):\n",
    "        self.myList = []\n",
    "        \n",
    "    def put_in_pouch(self, item):\n",
    "        self.myList.append(item)\n",
    "        \n",
    "    def pouch_contents(self):\n",
    "        return self.myList\n",
    "    \n",
    "m = Marsupials()\n",
    "m.put_in_pouch('doll')\n",
    "m.put_in_pouch('firetruck')\n",
    "m.put_in_pouch('kitten')\n",
    "m.pouch_contents()"
   ]
  },
  {
   "cell_type": "code",
   "execution_count": 5,
   "id": "c9be72a6",
   "metadata": {},
   "outputs": [
    {
     "name": "stdout",
     "output_type": "stream",
     "text": [
      "I am a Kagaroo located at coordinates (0,0)\n"
     ]
    }
   ],
   "source": [
    "class Kangaroo(Marsupials):\n",
    "    def __init__(self,x,y):\n",
    "        Marsupials.__init__(self)\n",
    "        self.x = x\n",
    "        self.y = y\n",
    "        \n",
    "    def jump(self,dx,dy):\n",
    "        self.x = self.x + dx\n",
    "        self.y = self.y + dy\n",
    "        \n",
    "    def __str__(self):\n",
    "        return 'I am a Kagaroo located at coordinates ({},{})'.format(self.x,self.y)\n",
    "\n",
    "k = Kangaroo(0,0)\n",
    "print(k)"
   ]
  },
  {
   "cell_type": "code",
   "execution_count": 6,
   "id": "c8e9c834",
   "metadata": {},
   "outputs": [
    {
     "name": "stdout",
     "output_type": "stream",
     "text": [
      "['doll', 'firetruck', 'kitten']\n"
     ]
    }
   ],
   "source": [
    "k.put_in_pouch('doll')\n",
    "k.put_in_pouch('firetruck')\n",
    "k.put_in_pouch('kitten')\n",
    "print(k.pouch_contents())"
   ]
  },
  {
   "cell_type": "code",
   "execution_count": 7,
   "id": "dec4af8f",
   "metadata": {},
   "outputs": [
    {
     "name": "stdout",
     "output_type": "stream",
     "text": [
      "I am a Kagaroo located at coordinates (3,0)\n"
     ]
    }
   ],
   "source": [
    "k.jump(1,0)\n",
    "k.jump(1,0)\n",
    "k.jump(1,0)\n",
    "print(k)"
   ]
  },
  {
   "cell_type": "markdown",
   "id": "73f64117",
   "metadata": {},
   "source": [
    "# Question No. 4"
   ]
  },
  {
   "cell_type": "code",
   "execution_count": 8,
   "id": "6bd33907",
   "metadata": {},
   "outputs": [
    {
     "name": "stdout",
     "output_type": "stream",
     "text": [
      "1\n",
      "10\n",
      "5\n",
      "16\n",
      "8\n",
      "4\n",
      "2\n",
      "1\n"
     ]
    }
   ],
   "source": [
    "def collatz(x):\n",
    "    if x != 1:\n",
    "        if x%2!= 0:\n",
    "            print(int(x))\n",
    "            collatz(3*x+1)\n",
    "        else:\n",
    "            print(int(x))\n",
    "            collatz(x/2)\n",
    "    else:\n",
    "        print(int(x))\n",
    "        \n",
    "collatz(1)\n",
    "collatz(10)"
   ]
  },
  {
   "cell_type": "markdown",
   "id": "0d6dfdb1",
   "metadata": {},
   "source": [
    "# Question No. 5"
   ]
  },
  {
   "cell_type": "code",
   "execution_count": 9,
   "id": "d94735db",
   "metadata": {},
   "outputs": [
    {
     "data": {
      "text/plain": [
       "1001"
      ]
     },
     "execution_count": 9,
     "metadata": {},
     "output_type": "execute_result"
    }
   ],
   "source": [
    "def binary(n):\n",
    "    if n>0:\n",
    "        return (n % 2 + 10*binary(int(n//2)))\n",
    "    else:\n",
    "        return 0\n",
    "    \n",
    "binary(0)\n",
    "binary(1)\n",
    "binary(3)\n",
    "binary(9)"
   ]
  },
  {
   "cell_type": "markdown",
   "id": "0baaa539",
   "metadata": {},
   "source": [
    "# Question No. 6"
   ]
  },
  {
   "cell_type": "code",
   "execution_count": 34,
   "id": "ab880343",
   "metadata": {},
   "outputs": [
    {
     "name": "stdout",
     "output_type": "stream",
     "text": [
      "W3C Mission\n",
      "Principles\n"
     ]
    }
   ],
   "source": [
    "from html.parser import HTMLParser\n",
    "class HeadingParser(HTMLParser):\n",
    "    def __init__(self):\n",
    "        HTMLParser.__init__(self)\n",
    "        self.intend = ''\n",
    "        self.head = 0\n",
    "        \n",
    "    def handle_starttag(self, tag, attrs):\n",
    "        if tag[:-1]=='h':\n",
    "            self.head = 'type'\n",
    "            \n",
    "    def handle_data(self, data):\n",
    "        if self.head=='type':\n",
    "            print(self.intend+data)\n",
    "            self.intend+= ''\n",
    "            self.head = 0\n",
    "\n",
    "infile = open('w3c.html')\n",
    "content = infile.read()\n",
    "infile.close()\n",
    "hp = HeadingParser()\n",
    "hp.feed(content)"
   ]
  },
  {
   "cell_type": "markdown",
   "id": "84e688a7",
   "metadata": {},
   "source": [
    "# Question No. 7"
   ]
  },
  {
   "cell_type": "code",
   "execution_count": 33,
   "id": "11193f2b",
   "metadata": {},
   "outputs": [
    {
     "name": "stdout",
     "output_type": "stream",
     "text": [
      " http://web.simmons.edu/~grovesd/comm244/notes/week3/html-test-page.html\n"
     ]
    },
    {
     "ename": "NameError",
     "evalue": "name 'urlcollector' is not defined",
     "output_type": "error",
     "traceback": [
      "\u001b[1;31m---------------------------------------------------------------------------\u001b[0m",
      "\u001b[1;31mNameError\u001b[0m                                 Traceback (most recent call last)",
      "Cell \u001b[1;32mIn[33], line 46\u001b[0m\n\u001b[0;32m     44\u001b[0m         \u001b[38;5;28;01melse\u001b[39;00m:\n\u001b[0;32m     45\u001b[0m             webdir(link, depth, i)\n\u001b[1;32m---> 46\u001b[0m webdir(\u001b[38;5;124m'\u001b[39m\u001b[38;5;124mhttp://web.simmons.edu/~grovesd/comm244/notes/week3/html-test-page.html\u001b[39m\u001b[38;5;124m'\u001b[39m, \u001b[38;5;241m2\u001b[39m, \u001b[38;5;241m0\u001b[39m)\n",
      "Cell \u001b[1;32mIn[33], line 33\u001b[0m, in \u001b[0;36mwebdir\u001b[1;34m(url, depth, i)\u001b[0m\n\u001b[0;32m     30\u001b[0m \u001b[38;5;28mprint\u001b[39m(i\u001b[38;5;241m*\u001b[39m\u001b[38;5;124m'\u001b[39m\u001b[38;5;124m  \u001b[39m\u001b[38;5;124m'\u001b[39m, url)         \n\u001b[0;32m     32\u001b[0m objective \u001b[38;5;241m=\u001b[39m urlopen(url)\u001b[38;5;241m.\u001b[39mread()\u001b[38;5;241m.\u001b[39mdecode()\n\u001b[1;32m---> 33\u001b[0m collection \u001b[38;5;241m=\u001b[39m urlcollector(url)\n\u001b[0;32m     34\u001b[0m collection\u001b[38;5;241m.\u001b[39mfeed(objective)\n\u001b[0;32m     35\u001b[0m urls \u001b[38;5;241m=\u001b[39m collection\u001b[38;5;241m.\u001b[39mappend() \n",
      "\u001b[1;31mNameError\u001b[0m: name 'urlcollector' is not defined"
     ]
    }
   ],
   "source": [
    "from html.parser import HTMLParser    \n",
    "from urllib.request import urlopen\n",
    "from urllib.parse import urljoin\n",
    "\n",
    "class collector(HTMLParser):\n",
    "    \n",
    "\n",
    "    def __init__(self, url):\n",
    "      \n",
    "        HTMLParser.__init__(self)\n",
    "        self.url = url\n",
    "        self.links = []\n",
    "\n",
    "\n",
    "    def append(self):\n",
    "        \n",
    "        return self.links\n",
    "\n",
    "\n",
    "    def handle_starttag(self, url_tag, attributes):\n",
    "        for i in attributes:\n",
    "            mylinks = urljoin(self.url, a[1])\n",
    "            if mylinks[:4] == 'http': \n",
    "                self.url_links.append(mylinks)\n",
    "                i = 0\n",
    "def webdir(url, depth, i):\n",
    "   \n",
    "\n",
    "    depth = depth - 1    \n",
    "    print(i*'  ', url)         \n",
    "\n",
    "    objective = urlopen(url).read().decode()\n",
    "    collection = urlcollector(url)\n",
    "    collection.feed(objective)\n",
    "    urls = collection.append() \n",
    " \n",
    "    links = urls\n",
    "    i= i + 4\n",
    "\n",
    "\n",
    "    for link in links:\n",
    "        if depth < 0 or i < 0:\n",
    "            return 1\n",
    "        else:\n",
    "            webdir(link, depth, i)\n",
    "webdir('http://web.simmons.edu/~grovesd/comm244/notes/week3/html-test-page.html', 2, 0)\n"
   ]
  },
  {
   "cell_type": "code",
   "execution_count": 24,
   "id": "e60f5d23",
   "metadata": {},
   "outputs": [
    {
     "name": "stdout",
     "output_type": "stream",
     "text": [
      " http://web.simmons.edu/~grovesd/comm244/notes/week3/html-test-page.html\n"
     ]
    },
    {
     "ename": "NameError",
     "evalue": "name 'urlcollector' is not defined",
     "output_type": "error",
     "traceback": [
      "\u001b[1;31m---------------------------------------------------------------------------\u001b[0m",
      "\u001b[1;31mNameError\u001b[0m                                 Traceback (most recent call last)",
      "Cell \u001b[1;32mIn[24], line 1\u001b[0m\n\u001b[1;32m----> 1\u001b[0m webdir(\u001b[38;5;124m'\u001b[39m\u001b[38;5;124mhttp://web.simmons.edu/~grovesd/comm244/notes/week3/html-test-page.html\u001b[39m\u001b[38;5;124m'\u001b[39m, \u001b[38;5;241m2\u001b[39m, \u001b[38;5;241m0\u001b[39m)\n",
      "Cell \u001b[1;32mIn[23], line 33\u001b[0m, in \u001b[0;36mwebdir\u001b[1;34m(url, depth, i)\u001b[0m\n\u001b[0;32m     30\u001b[0m \u001b[38;5;28mprint\u001b[39m(i\u001b[38;5;241m*\u001b[39m\u001b[38;5;124m'\u001b[39m\u001b[38;5;124m  \u001b[39m\u001b[38;5;124m'\u001b[39m, url)         \n\u001b[0;32m     32\u001b[0m objective \u001b[38;5;241m=\u001b[39m urlopen(url)\u001b[38;5;241m.\u001b[39mread()\u001b[38;5;241m.\u001b[39mdecode()\n\u001b[1;32m---> 33\u001b[0m collection \u001b[38;5;241m=\u001b[39m urlcollector(url)\n\u001b[0;32m     34\u001b[0m collection\u001b[38;5;241m.\u001b[39mfeed(objective)\n\u001b[0;32m     35\u001b[0m urls \u001b[38;5;241m=\u001b[39m collection\u001b[38;5;241m.\u001b[39mappend() \n",
      "\u001b[1;31mNameError\u001b[0m: name 'urlcollector' is not defined"
     ]
    }
   ],
   "source": []
  },
  {
   "cell_type": "markdown",
   "id": "ed53582c",
   "metadata": {},
   "source": [
    "# Question No. 8"
   ]
  },
  {
   "cell_type": "code",
   "execution_count": 32,
   "id": "48fb05b3",
   "metadata": {},
   "outputs": [],
   "source": [
    "import sqlite3\n",
    "con = sqlite3.connect('database_db')\n",
    "cur = con.cursor()\n",
    "cur.execute(\"SELECT name FROM sqlite_master WHERE type='table' AND name='database_d'\")\n",
    "table_exists = cur.fetchall()\n",
    "cur.execute(\"INSERT INTO database_d VALUES ('Mumbai', 'India', 'Winter', 24.8, 5.9)\")\n",
    "cur.execute(\"INSERT INTO database_d VALUES ('Mumbai', 'India', 'Spring', 28.4, 16.2)\")\n",
    "cur.execute(\"INSERT INTO database_d VALUES ('Mumbai', 'India', 'Summer', 27.9, 1549.4)\")\n",
    "cur.execute(\"INSERT INTO database_d VALUES ('Mumbai', 'India', 'Fall', 27.6, 346.0)\")\n",
    "cur.execute(\"INSERT INTO database_d VALUES ('London', 'United Kingdom', 'Winter', 4.2, 207.7)\")\n",
    "cur.execute(\"INSERT INTO database_d VALUES ('London', 'United Kingdom', 'Spring', 8.3, 169.6)\")\n",
    "cur.execute(\"INSERT INTO database_d VALUES ('London', 'United Kingdom', 'Summer', 15.7, 157.0)\")\n",
    "cur.execute(\"INSERT INTO database_d VALUES ('London', 'United Kingdom', 'Fall', 10.4, 218.5)\")\n",
    "cur.execute(\"INSERT INTO database_d VALUES ('Cairo', 'Egypt', 'Winter', 13.6, 16.5)\")\n",
    "cur.execute(\"INSERT INTO database_d VALUES ('Cairo', 'Egypt', 'Spring', 20.7, 6.5)\")\n",
    "cur.execute(\"INSERT INTO database_d VALUES ('Cairo', 'Egypt', 'Summer', 27.7, 0.1)\")\n",
    "cur.execute(\"INSERT INTO database_d VALUES ('Cairo', 'Egypt', 'Fall', 22.2, 4.5)\")\n",
    "\n",
    "con.commit()\n",
    "con.close()\n"
   ]
  },
  {
   "cell_type": "code",
   "execution_count": 26,
   "id": "08bb5a53",
   "metadata": {},
   "outputs": [
    {
     "name": "stdout",
     "output_type": "stream",
     "text": [
      "(24.8,)\n",
      "(28.4,)\n",
      "(27.9,)\n",
      "(27.6,)\n",
      "(4.2,)\n",
      "(8.3,)\n",
      "(15.7,)\n",
      "(10.4,)\n",
      "(13.6,)\n",
      "(20.7,)\n",
      "(27.7,)\n",
      "(22.2,)\n",
      "('Mumbai',)\n",
      "('London',)\n",
      "('Cairo',)\n",
      "('Mumbai', 'India', 'Fall', 27.6, 346)\n",
      "('London', 'United Kingdom', 'Fall', 10.4, 218.5)\n",
      "('Cairo', 'Egypt', 'Fall', 22.2, 4.5)\n",
      "('Mumbai', 'India', 'Winter', 24.8, 5.9)\n",
      "('Mumbai', 'India', 'Spring', 28.4, 16.2)\n",
      "('Mumbai', 'India', 'Summer', 27.9, 1549.4)\n",
      "('Mumbai', 'India', 'Fall', 27.6, 346)\n",
      "('Mumbai', 'India')\n",
      "('Cairo', 'Egypt')\n",
      "('Mumbai', 'India', 'Fall')\n",
      "('London', 'United Kingdom', 'Winter')\n",
      "('London', 'United Kingdom', 'Fall')\n",
      "[(27.6,)]\n",
      "(569.0, 'Fall')\n",
      "(192.29999999999998, 'Spring')\n",
      "(1706.5, 'Summer')\n",
      "(230.1, 'Winter')\n"
     ]
    }
   ],
   "source": [
    "import sqlite3\n",
    "con = sqlite3.connect('database_db')\n",
    "cur = con.cursor()\n",
    "cur.execute('SELECT Temperature FROM database_d ')\n",
    "for record in cur:\n",
    "    print(record)\n",
    "cur.execute('SELECT DISTINCT City FROM database_d ')\n",
    "for record in cur:\n",
    "    print(record)\n",
    "cur.execute('SELECT * FROM database_d  where Season=\"Fall\"')\n",
    "for record in cur:\n",
    "    print(record)\n",
    "cur.execute('SELECT * FROM database_d  where Country=\"India\"')\n",
    "for record in cur:\n",
    "    print(record)\n",
    "cur.execute('SELECT City,Country FROM database_d  where (Season =\"Fall\") AND (temperature>20) ORDER BY Temperature DESC')\n",
    "for record in cur:\n",
    "    print(record)\n",
    "cur.execute('SELECT City,Country,Season FROM database_d  where (rainfall>200) AND (rainfall<400)')\n",
    "for record in cur:\n",
    "    print(record)\n",
    "cur.execute('SELECT SUM(Rainfall) FROM database_d  where City=\"Cairo\"')\n",
    "Annual_rainfall=cur.fetchall()\n",
    "print(Annual_rainfall)\n",
    "cur.execute('SELECT SUM(Rainfall),Season FROM database_d  GROUP BY Season')\n",
    "for record in cur:\n",
    "    print(record)"
   ]
  },
  {
   "cell_type": "markdown",
   "id": "6c19b73c",
   "metadata": {},
   "source": [
    "# Question No. 9"
   ]
  },
  {
   "cell_type": "code",
   "execution_count": 16,
   "id": "145c81a9",
   "metadata": {},
   "outputs": [
    {
     "data": {
      "text/plain": [
       "['THE', 'QUICK', 'BROWN', 'FOX', 'JUMPS', 'OVER', 'THE', 'LAZY', 'DOG']"
      ]
     },
     "execution_count": 16,
     "metadata": {},
     "output_type": "execute_result"
    }
   ],
   "source": [
    "words = ['The', 'quick', 'brown', 'fox', 'jumps', 'over', 'the', 'lazy', 'dog']\n",
    "[w.upper() for w in words]"
   ]
  },
  {
   "cell_type": "code",
   "execution_count": 17,
   "id": "855044e3",
   "metadata": {},
   "outputs": [
    {
     "data": {
      "text/plain": [
       "['the', 'quick', 'brown', 'fox', 'jumps', 'over', 'the', 'lazy', 'dog']"
      ]
     },
     "execution_count": 17,
     "metadata": {},
     "output_type": "execute_result"
    }
   ],
   "source": [
    "[w.lower() for w in words]"
   ]
  },
  {
   "cell_type": "code",
   "execution_count": 18,
   "id": "81afa70b",
   "metadata": {},
   "outputs": [
    {
     "data": {
      "text/plain": [
       "[3, 5, 5, 3, 5, 4, 3, 4, 3]"
      ]
     },
     "execution_count": 18,
     "metadata": {},
     "output_type": "execute_result"
    }
   ],
   "source": [
    "[len(w) for w in words]"
   ]
  },
  {
   "cell_type": "code",
   "execution_count": 19,
   "id": "e7b2c090",
   "metadata": {},
   "outputs": [
    {
     "data": {
      "text/plain": [
       "[['THE', 'the', 3],\n",
       " ['QUICK', 'quick', 5],\n",
       " ['BROWN', 'brown', 5],\n",
       " ['FOX', 'fox', 3],\n",
       " ['JUMPS', 'jumps', 5],\n",
       " ['OVER', 'over', 4],\n",
       " ['THE', 'the', 3],\n",
       " ['LAZY', 'lazy', 4],\n",
       " ['DOG', 'dog', 3]]"
      ]
     },
     "execution_count": 19,
     "metadata": {},
     "output_type": "execute_result"
    }
   ],
   "source": [
    "[[w.upper(),w.lower(),len(w)] for w in words]"
   ]
  },
  {
   "cell_type": "code",
   "execution_count": 20,
   "id": "ffab3f28",
   "metadata": {},
   "outputs": [
    {
     "data": {
      "text/plain": [
       "['quick', 'brown', 'jumps', 'over', 'lazy']"
      ]
     },
     "execution_count": 20,
     "metadata": {},
     "output_type": "execute_result"
    }
   ],
   "source": [
    "[w for w in words if len(w) >= 4]"
   ]
  },
  {
   "cell_type": "code",
   "execution_count": null,
   "id": "dcbe5370",
   "metadata": {},
   "outputs": [],
   "source": []
  }
 ],
 "metadata": {
  "kernelspec": {
   "display_name": "Python 3 (ipykernel)",
   "language": "python",
   "name": "python3"
  },
  "language_info": {
   "codemirror_mode": {
    "name": "ipython",
    "version": 3
   },
   "file_extension": ".py",
   "mimetype": "text/x-python",
   "name": "python",
   "nbconvert_exporter": "python",
   "pygments_lexer": "ipython3",
   "version": "3.11.4"
  }
 },
 "nbformat": 4,
 "nbformat_minor": 5
}
